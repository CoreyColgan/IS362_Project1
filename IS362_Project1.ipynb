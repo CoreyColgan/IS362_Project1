{
 "cells": [
  {
   "cell_type": "code",
   "execution_count": 17,
   "metadata": {},
   "outputs": [],
   "source": [
    "# Import pandas library to work with CSV data file \n",
    "import pandas as pd"
   ]
  },
  {
   "cell_type": "code",
   "execution_count": 21,
   "metadata": {},
   "outputs": [
    {
     "data": {
      "text/html": [
       "<div>\n",
       "<style scoped>\n",
       "    .dataframe tbody tr th:only-of-type {\n",
       "        vertical-align: middle;\n",
       "    }\n",
       "\n",
       "    .dataframe tbody tr th {\n",
       "        vertical-align: top;\n",
       "    }\n",
       "\n",
       "    .dataframe thead th {\n",
       "        text-align: right;\n",
       "    }\n",
       "</style>\n",
       "<table border=\"1\" class=\"dataframe\">\n",
       "  <thead>\n",
       "    <tr style=\"text-align: right;\">\n",
       "      <th></th>\n",
       "      <th>Alaska On Time</th>\n",
       "      <th>Alaska Delayed</th>\n",
       "      <th>AM West On Time</th>\n",
       "      <th>AM West Delayed</th>\n",
       "    </tr>\n",
       "    <tr>\n",
       "      <th>CITY</th>\n",
       "      <th></th>\n",
       "      <th></th>\n",
       "      <th></th>\n",
       "      <th></th>\n",
       "    </tr>\n",
       "  </thead>\n",
       "  <tbody>\n",
       "    <tr>\n",
       "      <th>Los Angeles</th>\n",
       "      <td>497</td>\n",
       "      <td>62</td>\n",
       "      <td>694</td>\n",
       "      <td>117</td>\n",
       "    </tr>\n",
       "    <tr>\n",
       "      <th>Phoenix</th>\n",
       "      <td>221</td>\n",
       "      <td>12</td>\n",
       "      <td>4840</td>\n",
       "      <td>415</td>\n",
       "    </tr>\n",
       "    <tr>\n",
       "      <th>San Diego</th>\n",
       "      <td>212</td>\n",
       "      <td>20</td>\n",
       "      <td>383</td>\n",
       "      <td>65</td>\n",
       "    </tr>\n",
       "    <tr>\n",
       "      <th>San Francisco</th>\n",
       "      <td>503</td>\n",
       "      <td>102</td>\n",
       "      <td>320</td>\n",
       "      <td>129</td>\n",
       "    </tr>\n",
       "    <tr>\n",
       "      <th>Seattle</th>\n",
       "      <td>1841</td>\n",
       "      <td>305</td>\n",
       "      <td>201</td>\n",
       "      <td>61</td>\n",
       "    </tr>\n",
       "  </tbody>\n",
       "</table>\n",
       "</div>"
      ],
      "text/plain": [
       "               Alaska On Time  Alaska Delayed  AM West On Time  \\\n",
       "CITY                                                             \n",
       "Los Angeles               497              62              694   \n",
       "Phoenix                   221              12             4840   \n",
       "San Diego                 212              20              383   \n",
       "San Francisco             503             102              320   \n",
       "Seattle                  1841             305              201   \n",
       "\n",
       "               AM West Delayed  \n",
       "CITY                            \n",
       "Los Angeles                117  \n",
       "Phoenix                    415  \n",
       "San Diego                   65  \n",
       "San Francisco              129  \n",
       "Seattle                     61  "
      ]
     },
     "execution_count": 21,
     "metadata": {},
     "output_type": "execute_result"
    }
   ],
   "source": [
    "# Read the information from your .CSV file into pandas\n",
    "airline_info = pd.read_csv(r'C:\\Users\\Corey Colgan\\Desktop\\School\\SPS\\Fall 2019\\IS362\\flight_data.csv', index_col = 0)\n",
    "airline_info.head()"
   ]
  },
  {
   "cell_type": "code",
   "execution_count": 23,
   "metadata": {},
   "outputs": [
    {
     "data": {
      "text/plain": [
       "CITY\n",
       "Los Angeles      11.091234\n",
       "Phoenix           5.150215\n",
       "San Diego         8.620690\n",
       "San Francisco    16.859504\n",
       "Seattle          14.212488\n",
       "Name: AlaskaPercentagesOfDelay, dtype: float64"
      ]
     },
     "execution_count": 23,
     "metadata": {},
     "output_type": "execute_result"
    }
   ],
   "source": [
    "# Conduct analysis on the data to compare arrival delays for the two airlines \n",
    "\n",
    "airline_info['TotalAlaskaArrivals'] = airline_info['Alaska On Time'] + airline_info['Alaska Delayed']\n",
    "airline_info['AlaskaPercentagesOfDelay'] = (airline_info['Alaska Delayed'] / airline_info['TotalAlaskaArrivals']) * 100\n",
    "airline_info['AlaskaPercentagesOfDelay']"
   ]
  },
  {
   "cell_type": "code",
   "execution_count": 24,
   "metadata": {},
   "outputs": [
    {
     "data": {
      "text/plain": [
       "CITY\n",
       "Los Angeles      14.426634\n",
       "Phoenix           7.897241\n",
       "San Diego        14.508929\n",
       "San Francisco    28.730512\n",
       "Seattle          23.282443\n",
       "Name: AMWestPercentagesOfDelay, dtype: float64"
      ]
     },
     "execution_count": 24,
     "metadata": {},
     "output_type": "execute_result"
    }
   ],
   "source": [
    "airline_info['TotalAMWestArrivals'] = airline_info['AM West On Time'] + airline_info['AM West Delayed']\n",
    "airline_info['AMWestPercentagesOfDelay'] = (airline_info['AM West Delayed'] / airline_info['TotalAMWestArrivals']) * 100\n",
    "airline_info['AMWestPercentagesOfDelay']"
   ]
  },
  {
   "cell_type": "code",
   "execution_count": 28,
   "metadata": {},
   "outputs": [
    {
     "data": {
      "text/html": [
       "<div>\n",
       "<style scoped>\n",
       "    .dataframe tbody tr th:only-of-type {\n",
       "        vertical-align: middle;\n",
       "    }\n",
       "\n",
       "    .dataframe tbody tr th {\n",
       "        vertical-align: top;\n",
       "    }\n",
       "\n",
       "    .dataframe thead th {\n",
       "        text-align: right;\n",
       "    }\n",
       "</style>\n",
       "<table border=\"1\" class=\"dataframe\">\n",
       "  <thead>\n",
       "    <tr style=\"text-align: right;\">\n",
       "      <th></th>\n",
       "      <th>Alaska On Time</th>\n",
       "      <th>Alaska Delayed</th>\n",
       "      <th>AM West On Time</th>\n",
       "      <th>AM West Delayed</th>\n",
       "      <th>TotalAlaskaArrivals</th>\n",
       "      <th>AlaskaPercentagesOfDelay</th>\n",
       "      <th>TotalAMWestArrivals</th>\n",
       "      <th>AMWestPercentagesOfDelay</th>\n",
       "    </tr>\n",
       "    <tr>\n",
       "      <th>CITY</th>\n",
       "      <th></th>\n",
       "      <th></th>\n",
       "      <th></th>\n",
       "      <th></th>\n",
       "      <th></th>\n",
       "      <th></th>\n",
       "      <th></th>\n",
       "      <th></th>\n",
       "    </tr>\n",
       "  </thead>\n",
       "  <tbody>\n",
       "    <tr>\n",
       "      <th>Los Angeles</th>\n",
       "      <td>497</td>\n",
       "      <td>62</td>\n",
       "      <td>694</td>\n",
       "      <td>117</td>\n",
       "      <td>559</td>\n",
       "      <td>11.091234</td>\n",
       "      <td>811</td>\n",
       "      <td>14.426634</td>\n",
       "    </tr>\n",
       "    <tr>\n",
       "      <th>Phoenix</th>\n",
       "      <td>221</td>\n",
       "      <td>12</td>\n",
       "      <td>4840</td>\n",
       "      <td>415</td>\n",
       "      <td>233</td>\n",
       "      <td>5.150215</td>\n",
       "      <td>5255</td>\n",
       "      <td>7.897241</td>\n",
       "    </tr>\n",
       "    <tr>\n",
       "      <th>San Diego</th>\n",
       "      <td>212</td>\n",
       "      <td>20</td>\n",
       "      <td>383</td>\n",
       "      <td>65</td>\n",
       "      <td>232</td>\n",
       "      <td>8.620690</td>\n",
       "      <td>448</td>\n",
       "      <td>14.508929</td>\n",
       "    </tr>\n",
       "    <tr>\n",
       "      <th>San Francisco</th>\n",
       "      <td>503</td>\n",
       "      <td>102</td>\n",
       "      <td>320</td>\n",
       "      <td>129</td>\n",
       "      <td>605</td>\n",
       "      <td>16.859504</td>\n",
       "      <td>449</td>\n",
       "      <td>28.730512</td>\n",
       "    </tr>\n",
       "    <tr>\n",
       "      <th>Seattle</th>\n",
       "      <td>1841</td>\n",
       "      <td>305</td>\n",
       "      <td>201</td>\n",
       "      <td>61</td>\n",
       "      <td>2146</td>\n",
       "      <td>14.212488</td>\n",
       "      <td>262</td>\n",
       "      <td>23.282443</td>\n",
       "    </tr>\n",
       "  </tbody>\n",
       "</table>\n",
       "</div>"
      ],
      "text/plain": [
       "               Alaska On Time  Alaska Delayed  AM West On Time  \\\n",
       "CITY                                                             \n",
       "Los Angeles               497              62              694   \n",
       "Phoenix                   221              12             4840   \n",
       "San Diego                 212              20              383   \n",
       "San Francisco             503             102              320   \n",
       "Seattle                  1841             305              201   \n",
       "\n",
       "               AM West Delayed  TotalAlaskaArrivals  AlaskaPercentagesOfDelay  \\\n",
       "CITY                                                                            \n",
       "Los Angeles                117                  559                 11.091234   \n",
       "Phoenix                    415                  233                  5.150215   \n",
       "San Diego                   65                  232                  8.620690   \n",
       "San Francisco              129                  605                 16.859504   \n",
       "Seattle                     61                 2146                 14.212488   \n",
       "\n",
       "               TotalAMWestArrivals  AMWestPercentagesOfDelay  \n",
       "CITY                                                          \n",
       "Los Angeles                    811                 14.426634  \n",
       "Phoenix                       5255                  7.897241  \n",
       "San Diego                      448                 14.508929  \n",
       "San Francisco                  449                 28.730512  \n",
       "Seattle                        262                 23.282443  "
      ]
     },
     "execution_count": 28,
     "metadata": {},
     "output_type": "execute_result"
    }
   ],
   "source": [
    "# Display updated chart w/ delay percentages added for analysis \n",
    "airline_info"
   ]
  },
  {
   "cell_type": "code",
   "execution_count": null,
   "metadata": {},
   "outputs": [],
   "source": [
    "# We can see that AM West has higher percentages of delays for all cities listed. "
   ]
  },
  {
   "cell_type": "code",
   "execution_count": null,
   "metadata": {},
   "outputs": [],
   "source": []
  }
 ],
 "metadata": {
  "kernelspec": {
   "display_name": "Python 3",
   "language": "python",
   "name": "python3"
  },
  "language_info": {
   "codemirror_mode": {
    "name": "ipython",
    "version": 3
   },
   "file_extension": ".py",
   "mimetype": "text/x-python",
   "name": "python",
   "nbconvert_exporter": "python",
   "pygments_lexer": "ipython3",
   "version": "3.7.3"
  }
 },
 "nbformat": 4,
 "nbformat_minor": 2
}
